{
 "cells": [
  {
   "cell_type": "code",
   "execution_count": 23,
   "metadata": {},
   "outputs": [
    {
     "name": "stderr",
     "output_type": "stream",
     "text": [
      "c:\\Users\\Lenovo\\anaconda3\\envs\\py39\\lib\\site-packages\\tqdm\\auto.py:22: TqdmWarning: IProgress not found. Please update jupyter and ipywidgets. See https://ipywidgets.readthedocs.io/en/stable/user_install.html\n",
      "  from .autonotebook import tqdm as notebook_tqdm\n"
     ]
    }
   ],
   "source": [
    "import numpy as np\n",
    "import networkx as nx\n",
    "import json\n",
    "import torch\n"
   ]
  },
  {
   "cell_type": "code",
   "execution_count": 18,
   "metadata": {},
   "outputs": [],
   "source": [
    "inj = np.load('injections.npy')\n",
    "loads = np.load('loads.npy')"
   ]
  },
  {
   "cell_type": "code",
   "execution_count": 57,
   "metadata": {},
   "outputs": [
    {
     "data": {
      "text/plain": [
       "array([[ 65.90000439,  51.19999695, -15.30000305, -45.79999924,\n",
       "         -7.        ,  24.40000153,   0.        ,   0.        ,\n",
       "        -28.20000076,  -8.69999981,  -3.5       ,  -5.5       ,\n",
       "        -12.69999981, -14.80000019],\n",
       "       [ 67.90000153,  51.20000267, -16.40000153, -45.90000153,\n",
       "         -6.9000001 ,  24.29999828,   0.        ,   0.        ,\n",
       "        -28.39999962,  -8.80000019,  -3.4000001 ,  -5.5       ,\n",
       "        -12.89999962, -15.19999981],\n",
       "       [ 66.00000286,  51.70000076, -15.40000153, -45.        ,\n",
       "         -6.9000001 ,  23.39999866,   0.        ,   0.        ,\n",
       "        -28.10000038,  -8.89999962,  -3.4000001 ,  -5.5       ,\n",
       "        -12.80000019, -15.10000038],\n",
       "       [ 65.99999285,  52.20000267, -15.69999695, -44.79999924,\n",
       "         -6.9000001 ,  23.40000153,   0.        ,   0.        ,\n",
       "        -28.60000038,  -8.89999962,  -3.4000001 ,  -5.4000001 ,\n",
       "        -12.80000019, -15.10000038],\n",
       "       [ 68.0999918 ,  51.80000305, -16.19999695, -45.29999924,\n",
       "         -6.80000019,  22.30000114,   0.        ,   0.        ,\n",
       "        -28.39999962,  -9.        ,  -3.4000001 ,  -5.4000001 ,\n",
       "        -12.80000019, -14.89999962]])"
      ]
     },
     "execution_count": 57,
     "metadata": {},
     "output_type": "execute_result"
    }
   ],
   "source": [
    "inj[:5]"
   ]
  },
  {
   "cell_type": "code",
   "execution_count": 60,
   "metadata": {},
   "outputs": [
    {
     "data": {
      "text/plain": [
       "(10000, 20)"
      ]
     },
     "execution_count": 60,
     "metadata": {},
     "output_type": "execute_result"
    }
   ],
   "source": [
    "loads.shape"
   ]
  },
  {
   "cell_type": "code",
   "execution_count": 30,
   "metadata": {},
   "outputs": [
    {
     "name": "stdout",
     "output_type": "stream",
     "text": [
      "Node Features:\n",
      "[[ 65.90000439  51.19999695 -15.30000305 ...  -5.5        -12.69999981\n",
      "  -14.80000019]\n",
      " [ 67.90000153  51.20000267 -16.40000153 ...  -5.5        -12.89999962\n",
      "  -15.19999981]\n",
      " [ 66.00000286  51.70000076 -15.40000153 ...  -5.5        -12.80000019\n",
      "  -15.10000038]\n",
      " ...\n",
      " [ 65.70000505  52.10000038  -3.30000305 ...  -5.4000001  -10.60000038\n",
      "  -11.39999962]\n",
      " [ 65.60000467  52.79999924  -3.1000061  ...  -5.5        -10.5\n",
      "  -11.30000019]\n",
      " [ 64.6999979   51.60000038  -2.5        ...  -5.4000001  -10.39999962\n",
      "  -11.19999981]]\n",
      "\n",
      "Edge Features:\n",
      "[[0.05917]\n",
      " [0.22304]\n",
      " [0.19797]\n",
      " [0.17632]\n",
      " [0.17388]\n",
      " [0.17103]\n",
      " [0.04211]\n",
      " [0.1989 ]\n",
      " [0.25581]\n",
      " [0.13027]\n",
      " [0.0845 ]\n",
      " [0.27038]\n",
      " [0.19207]\n",
      " [0.19988]\n",
      " [0.34802]\n",
      " [0.20912]\n",
      " [0.55618]\n",
      " [0.25202]\n",
      " [0.17615]\n",
      " [0.11001]]\n"
     ]
    }
   ],
   "source": [
    "with open('adjacency.json') as f:\n",
    "    branch_info = json.load(f)\n",
    "\n",
    "# Initialize node features and edge features\n",
    "nodes = inj\n",
    "edges = np.zeros((len(branch_info), 1))  # Assuming 1-dimensional edge feature for simplicity\n",
    "\n",
    "# Assign node features based on injection vectors\n",
    "print(\"Node Features:\")\n",
    "print(nodes)\n",
    "\n",
    "# Assign edge features based on branch reactance\n",
    "for branch_id, info in branch_info.items():\n",
    "    from_bus, to_bus, reactance = info[\"from\"], info[\"to\"], info[\"reactance\"]\n",
    "    edges[int(branch_id)] = reactance\n",
    "\n",
    "print(\"\\nEdge Features:\")\n",
    "print(edges)"
   ]
  },
  {
   "cell_type": "code",
   "execution_count": 31,
   "metadata": {},
   "outputs": [
    {
     "name": "stdout",
     "output_type": "stream",
     "text": [
      "Node Features Tensor:\n",
      "tensor([[ 65.9000,  51.2000, -15.3000,  ...,  -5.5000, -12.7000, -14.8000],\n",
      "        [ 67.9000,  51.2000, -16.4000,  ...,  -5.5000, -12.9000, -15.2000],\n",
      "        [ 66.0000,  51.7000, -15.4000,  ...,  -5.5000, -12.8000, -15.1000],\n",
      "        ...,\n",
      "        [ 65.7000,  52.1000,  -3.3000,  ...,  -5.4000, -10.6000, -11.4000],\n",
      "        [ 65.6000,  52.8000,  -3.1000,  ...,  -5.5000, -10.5000, -11.3000],\n",
      "        [ 64.7000,  51.6000,  -2.5000,  ...,  -5.4000, -10.4000, -11.2000]])\n",
      "\n",
      "Edge Features Tensor:\n",
      "tensor([0.0592, 0.2230, 0.1980, 0.1763, 0.1739, 0.1710, 0.0421, 0.2091, 0.5562,\n",
      "        0.2520, 0.1989, 0.2558, 0.1303, 0.1761, 0.1100, 0.0845, 0.2704, 0.1921,\n",
      "        0.1999, 0.3480])\n"
     ]
    }
   ],
   "source": [
    "injection_vectors = inj\n",
    "# Load branch information\n",
    "with open('adjacency.json', 'r') as f:\n",
    "    branch_info = json.load(f)\n",
    "\n",
    "# Create a graph using networkx\n",
    "graph = nx.Graph()\n",
    "\n",
    "# Add nodes with injection vectors as features\n",
    "for i in range(len(injection_vectors)):\n",
    "    node_features = injection_vectors[i, :]\n",
    "    graph.add_node(i, features=torch.tensor(node_features, dtype=torch.float32))\n",
    "\n",
    "# Add edges with reactance as features\n",
    "for key, value in branch_info.items():\n",
    "    from_node = value['from']\n",
    "    to_node = value['to']\n",
    "    reactance = value['reactance']\n",
    "    graph.add_edge(from_node, to_node, features=torch.tensor(reactance, dtype=torch.float32))\n",
    "\n",
    "# Access node and edge features\n",
    "node_features = [graph.nodes[i]['features'] for i in graph.nodes]\n",
    "edge_features = [graph.edges[i, j]['features'] for i, j in graph.edges]\n",
    "\n",
    "# Convert node and edge features to tensors\n",
    "node_features_tensor = torch.stack(node_features)\n",
    "edge_features_tensor = torch.stack(edge_features)\n",
    "\n",
    "# Print the tensors\n",
    "print(\"Node Features Tensor:\")\n",
    "print(node_features_tensor)\n",
    "\n",
    "print(\"\\nEdge Features Tensor:\")\n",
    "print(edge_features_tensor)"
   ]
  },
  {
   "cell_type": "code",
   "execution_count": 33,
   "metadata": {},
   "outputs": [
    {
     "data": {
      "text/plain": [
       "array([ 65.90000439,  51.19999695, -15.30000305, -45.79999924,\n",
       "        -7.        ,  24.40000153,   0.        ,   0.        ,\n",
       "       -28.20000076,  -8.69999981,  -3.5       ,  -5.5       ,\n",
       "       -12.69999981, -14.80000019])"
      ]
     },
     "execution_count": 33,
     "metadata": {},
     "output_type": "execute_result"
    }
   ],
   "source": [
    "nodes[0]"
   ]
  },
  {
   "cell_type": "code",
   "execution_count": 43,
   "metadata": {},
   "outputs": [
    {
     "data": {
      "text/plain": [
       "torch.Size([10000, 14])"
      ]
     },
     "execution_count": 43,
     "metadata": {},
     "output_type": "execute_result"
    }
   ],
   "source": [
    "node_features_tensor.shape"
   ]
  },
  {
   "cell_type": "code",
   "execution_count": 44,
   "metadata": {},
   "outputs": [
    {
     "data": {
      "text/plain": [
       "torch.Size([20])"
      ]
     },
     "execution_count": 44,
     "metadata": {},
     "output_type": "execute_result"
    }
   ],
   "source": [
    "edge_features_tensor.shape"
   ]
  },
  {
   "cell_type": "code",
   "execution_count": 46,
   "metadata": {},
   "outputs": [],
   "source": [
    "import matplotlib.pyplot as plt\n",
    "\n",
    "# Construct the graph\n",
    "graph = nx.Graph()\n",
    "\n",
    "# Add nodes with features\n",
    "for i in range(node_features_tensor.shape[0]):\n",
    "    graph.add_node(i, features=node_features_tensor[i].numpy())\n",
    "\n",
    "# Add edges with features\n",
    "for i, j in graph.edges:\n",
    "    graph.add_edge(i, j, features=edge_features_tensor[i, j].numpy())\n",
    "\n",
    "# # Visualize the graph (optional)\n",
    "# pos = nx.spring_layout(graph)\n",
    "# nx.draw(graph, pos, with_labels=True, font_weight='bold')\n",
    "# plt.show()"
   ]
  },
  {
   "cell_type": "code",
   "execution_count": 54,
   "metadata": {},
   "outputs": [
    {
     "name": "stderr",
     "output_type": "stream",
     "text": [
      "C:\\Users\\Lenovo\\AppData\\Local\\Temp\\ipykernel_16184\\3253719275.py:40: UserWarning: To copy construct from a tensor, it is recommended to use sourceTensor.clone().detach() or sourceTensor.clone().detach().requires_grad_(True), rather than torch.tensor(sourceTensor).\n",
      "  node_features_tensor = torch.tensor(node_features_tensor, dtype=torch.float32)\n"
     ]
    },
    {
     "name": "stdout",
     "output_type": "stream",
     "text": [
      "GCN Output Shape: torch.Size([10000, 20])\n"
     ]
    }
   ],
   "source": [
    "import torch\n",
    "import torch.nn as nn\n",
    "import torch.nn.functional as F\n",
    "\n",
    "class GraphConvolutionLayer(nn.Module):\n",
    "    def __init__(self, in_features, out_features):\n",
    "        super(GraphConvolutionLayer, self).__init__()\n",
    "        self.linear = nn.Linear(in_features, out_features)\n",
    "\n",
    "    def forward(self, x, adj_matrix):\n",
    "        # x: Node features, adj_matrix: Adjacency matrix\n",
    "        x = self.linear(x)\n",
    "        \n",
    "        # Mean Aggregation\n",
    "        degree_inv_sqrt = 1.0 / torch.sqrt(torch.sum(adj_matrix, dim=1))\n",
    "        degree_inv_sqrt[torch.isinf(degree_inv_sqrt)] = 0.0  # Handle nodes with no neighbors\n",
    "        normalized_adj_matrix = adj_matrix * degree_inv_sqrt[:, None]\n",
    "        x = torch.matmul(normalized_adj_matrix, x)\n",
    "        \n",
    "        return x\n",
    "\n",
    "class GCN(nn.Module):\n",
    "    def __init__(self, input_dim, hidden_dim, output_dim):\n",
    "        super(GCN, self).__init__()\n",
    "        self.gc1 = GraphConvolutionLayer(input_dim, hidden_dim)\n",
    "        self.gc2 = GraphConvolutionLayer(hidden_dim, output_dim)\n",
    "\n",
    "    def forward(self, x, adj_matrix):\n",
    "        x = F.relu(self.gc1(x, adj_matrix))\n",
    "        x = self.gc2(x, adj_matrix)\n",
    "        return x\n",
    "\n",
    "# Assuming you have the adjacency matrix from the graph\n",
    "# Construct the adjacency matrix\n",
    "adj_matrix = nx.adjacency_matrix(graph).toarray()\n",
    "adj_matrix = torch.tensor(adj_matrix, dtype=torch.float32)\n",
    "\n",
    "# Assuming you have node features tensor\n",
    "# Convert node features to tensor\n",
    "node_features_tensor = torch.tensor(node_features_tensor, dtype=torch.float32)\n",
    "\n",
    "# Create a GCN model with mean aggregation\n",
    "input_dim = node_features_tensor.shape[1]\n",
    "hidden_dim = 64  # Adjust as needed\n",
    "output_dim = 20   # Output dimension for branch load prediction\n",
    "gcn_model = GCN(input_dim, hidden_dim, output_dim)\n",
    "\n",
    "# Forward pass\n",
    "output = gcn_model(node_features_tensor, adj_matrix)\n",
    "\n",
    "# Print the output shape\n",
    "print(\"GCN Output Shape:\", output.shape)\n"
   ]
  },
  {
   "cell_type": "code",
   "execution_count": 55,
   "metadata": {},
   "outputs": [
    {
     "name": "stdout",
     "output_type": "stream",
     "text": [
      "Epoch [0/100], Loss: 273.3698425292969\n",
      "Epoch [10/100], Loss: 273.3698425292969\n",
      "Epoch [20/100], Loss: 273.3698425292969\n",
      "Epoch [30/100], Loss: 273.3698425292969\n",
      "Epoch [40/100], Loss: 273.3698425292969\n",
      "Epoch [50/100], Loss: 273.3698425292969\n",
      "Epoch [60/100], Loss: 273.3698425292969\n",
      "Epoch [70/100], Loss: 273.3698425292969\n",
      "Epoch [80/100], Loss: 273.3698425292969\n",
      "Epoch [90/100], Loss: 273.3698425292969\n"
     ]
    }
   ],
   "source": [
    "import torch.optim as optim\n",
    "\n",
    "# Assuming you have the target branch loads (ground truth)\n",
    "# Replace this with your actual target tensor\n",
    "target_branch_loads = torch.tensor(loads, dtype= torch.float32)\n",
    "\n",
    "# Define the Mean Squared Error loss\n",
    "criterion = nn.MSELoss()\n",
    "\n",
    "# Define the Adam optimizer\n",
    "optimizer = optim.Adam(gcn_model.parameters(), lr=0.001)\n",
    "\n",
    "# Number of training epochs\n",
    "epochs = 100\n",
    "\n",
    "# Training loop\n",
    "for epoch in range(epochs):\n",
    "    # Forward pass\n",
    "    output = gcn_model(node_features_tensor, adj_matrix)\n",
    "    \n",
    "    # Calculate the loss\n",
    "    loss = criterion(output, target_branch_loads)\n",
    "\n",
    "    # Backward pass and optimization\n",
    "    optimizer.zero_grad()\n",
    "    loss.backward()\n",
    "    optimizer.step()\n",
    "\n",
    "    # Print the loss for every few epochs\n",
    "    if epoch % 10 == 0:\n",
    "        print(f'Epoch [{epoch}/{epochs}], Loss: {loss.item()}')\n",
    "\n",
    "# After training, you can use the trained model to make predictions\n",
    "# For example, you can use gcn_model(node_features_tensor, adj_matrix) to get predictions\n"
   ]
  },
  {
   "cell_type": "code",
   "execution_count": null,
   "metadata": {},
   "outputs": [],
   "source": []
  },
  {
   "cell_type": "code",
   "execution_count": null,
   "metadata": {},
   "outputs": [],
   "source": []
  },
  {
   "cell_type": "code",
   "execution_count": null,
   "metadata": {},
   "outputs": [],
   "source": []
  },
  {
   "cell_type": "code",
   "execution_count": null,
   "metadata": {},
   "outputs": [],
   "source": []
  },
  {
   "cell_type": "code",
   "execution_count": 50,
   "metadata": {},
   "outputs": [],
   "source": [
    "# import torch.optim as optim\n",
    "# from sklearn.model_selection import RandomizedSearchCV\n",
    "\n",
    "# # Define the MSE loss\n",
    "# criterion = nn.MSELoss()\n",
    "\n",
    "# # Define the hyperparameter search space\n",
    "# param_dist = {\n",
    "#     'hidden_dim': [32, 64, 128],\n",
    "#     'output_dim': [1],  # Output dimension for branch load prediction\n",
    "#     'lr': [0.001, 0.01, 0.1],\n",
    "# }\n",
    "\n",
    "# # Assuming you have target branch loads (labels)\n",
    "# # Replace this with your actual target data\n",
    "# target_branch_loads = torch.tensor(loads, dtype=torch.float32)\n",
    "\n",
    "# # Define the training function\n",
    "# def train_gcn(hidden_dim, output_dim, lr, input_dim, adj_matrix, node_features_tensor, target_branch_loads):\n",
    "#     gcn_model = GCN(input_dim, hidden_dim, output_dim)\n",
    "#     optimizer = optim.Adam(gcn_model.parameters(), lr=lr)\n",
    "\n",
    "#     for epoch in range(100):  # Adjust the number of epochs as needed\n",
    "#         optimizer.zero_grad()\n",
    "#         output = gcn_model(node_features_tensor, adj_matrix)\n",
    "#         loss = criterion(output.squeeze(), target_branch_loads)\n",
    "#         loss.backward()\n",
    "#         optimizer.step()\n",
    "\n",
    "#     return loss.item()\n",
    "\n",
    "# # Create the GCN model\n",
    "# input_dim = node_features_tensor.shape[1]\n",
    "\n",
    "# # Initialize RandomizedSearchCV\n",
    "# random_search = RandomizedSearchCV(\n",
    "#     train_gcn,\n",
    "#     param_distributions=param_dist,\n",
    "#     n_iter=5,  # Number of random parameter combinations to try\n",
    "#     cv=3,  # Number of cross-validation folds\n",
    "#     verbose=1,\n",
    "#     random_state=42,\n",
    "# )\n",
    "\n",
    "# # Perform random search\n",
    "# random_search.fit(\n",
    "#     X_train=None,  # Replace with your training data if available\n",
    "#     y_train=None,  # Replace with your training labels if available\n",
    "#     adj_matrix=adj_matrix,\n",
    "#     node_features_tensor=node_features_tensor,\n",
    "#     target_branch_loads=target_branch_loads,\n",
    "# )\n",
    "\n",
    "# # Get the best hyperparameters\n",
    "# best_params = random_search.best_params_\n",
    "\n",
    "# # Print the best hyperparameters\n",
    "# print(\"Best Hyperparameters:\", best_params)\n"
   ]
  },
  {
   "cell_type": "code",
   "execution_count": null,
   "metadata": {},
   "outputs": [],
   "source": []
  }
 ],
 "metadata": {
  "kernelspec": {
   "display_name": "py39",
   "language": "python",
   "name": "python3"
  },
  "language_info": {
   "codemirror_mode": {
    "name": "ipython",
    "version": 3
   },
   "file_extension": ".py",
   "mimetype": "text/x-python",
   "name": "python",
   "nbconvert_exporter": "python",
   "pygments_lexer": "ipython3",
   "version": "3.9.16"
  }
 },
 "nbformat": 4,
 "nbformat_minor": 2
}
